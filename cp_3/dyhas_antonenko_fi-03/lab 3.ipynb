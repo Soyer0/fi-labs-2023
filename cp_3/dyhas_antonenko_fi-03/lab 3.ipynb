{
 "cells": [
  {
   "attachments": {},
   "cell_type": "markdown",
   "metadata": {},
   "source": [
    "# Лабораторна робота 3 з Симетричної Криптографії\n",
    "\n",
    "## Варіант - 1\n",
    "\n",
    "Студентів ФІ-03 Дигаса Богдана та Антоненко Макара"
   ]
  },
  {
   "attachments": {},
   "cell_type": "markdown",
   "metadata": {},
   "source": [
    "### Покладемо початкові значення "
   ]
  },
  {
   "cell_type": "code",
   "execution_count": 106,
   "metadata": {},
   "outputs": [],
   "source": [
    "from collections import Counter\n",
    "\n",
    "alphabet = \"абвгдежзийклмнопрстуфхцчшщьыэюя\"\n",
    "m = len(alphabet)\n",
    "\n",
    "f = open(\"encrypted_text.txt\", \"r\", encoding = 'utf-8')\n",
    "encrypted_text = f.read()\n",
    "f.close()\n"
   ]
  },
  {
   "attachments": {},
   "cell_type": "markdown",
   "metadata": {},
   "source": [
    "### Проведемо препроцесинг"
   ]
  },
  {
   "cell_type": "code",
   "execution_count": 107,
   "metadata": {},
   "outputs": [
    {
     "name": "stdout",
     "output_type": "stream",
     "text": [
      "Faulty letter is: \n",
      "\n",
      "False\n"
     ]
    }
   ],
   "source": [
    "def check_preprocessing(text):\n",
    "    for char in text:\n",
    "        if char not in alphabet:\n",
    "                print(\"Faulty letter is:\", char)\n",
    "                return False\n",
    "    return True\n",
    "\n",
    "print(check_preprocessing(encrypted_text))\n"
   ]
  },
  {
   "cell_type": "code",
   "execution_count": 108,
   "metadata": {},
   "outputs": [
    {
     "name": "stdout",
     "output_type": "stream",
     "text": [
      "True\n"
     ]
    }
   ],
   "source": [
    "def preprocess_text(text):\n",
    "    formatted_text = \"\"\n",
    "    for char in text:\n",
    "        if 'а' <= char and char <= 'я':\n",
    "            formatted_text += char\n",
    "        elif 'А' <= char <= 'Я':\n",
    "            formatted_text += char.lower()\n",
    "        elif char == 'Ё' or char == 'ё':\n",
    "            formatted_text += 'е' # not pasting everything that is not alphabet symbols\n",
    "    return formatted_text\n",
    "\n",
    "encrypted_text = preprocess_text(encrypted_text)\n",
    "print(check_preprocessing(encrypted_text))"
   ]
  },
  {
   "attachments": {},
   "cell_type": "markdown",
   "metadata": {},
   "source": [
    "### Напишемо допоміжні функції, що знадобляться нам у цьому нелегкому ділі"
   ]
  },
  {
   "cell_type": "code",
   "execution_count": 109,
   "metadata": {},
   "outputs": [],
   "source": [
    "def extended_euclidean_algorithm(a, b):\n",
    "    if b == 0:\n",
    "        return a, 1, 0\n",
    "    \n",
    "    gcd, v_prev, u_prev = extended_euclidean_algorithm(b, a % b)\n",
    "    u = u_prev\n",
    "    v = v_prev - (a // b) * u_prev\n",
    "    \n",
    "    return gcd, u, v\n",
    "\n",
    "def multiplicative_inverse(a, m):\n",
    "    gcd, x, _ = extended_euclidean_algorithm(a, m)\n",
    "    if gcd == 1:\n",
    "        return x % m\n",
    "    else:\n",
    "        return \"The multiplicative inverse does not exist.\"\n",
    "\n",
    "def solve_linear_congruence(a, b, n):\n",
    "    d, a_coef, _ = extended_euclidean_algorithm(a, n)\n",
    "    if d == 1:         # тоді a^-1 = a_coef\n",
    "        return [(a_coef * b) % n]\n",
    "    elif b % d == 0:\n",
    "        a_1, b_1, n_1 = a // d, b // d, n // d\n",
    "        _, a_1_inv, _ = extended_euclidean_algorithm(a_1, n_1)\n",
    "        x_0 = (a_1_inv * b_1) % n_1\n",
    "        return [x_0 + k * n_1 for k in range(d)]\n",
    "    else:\n",
    "        return []"
   ]
  },
  {
   "attachments": {},
   "cell_type": "markdown",
   "metadata": {},
   "source": [
    "### Визначимо 5 біграм, які зустрічаються у нашому тексті найчастіше:"
   ]
  },
  {
   "cell_type": "code",
   "execution_count": 110,
   "metadata": {},
   "outputs": [
    {
     "name": "stdout",
     "output_type": "stream",
     "text": [
      "Найчастіші біграми у моєму зашифрованому тексті: ['рн', 'ыч', 'нк', 'цз', 'иа']\n",
      "Найчастіші біграми у звичайному, відкритому тексті: ['ст', 'но', 'то', 'на', 'ен']\n"
     ]
    }
   ],
   "source": [
    "# Обчислення частоти біграм\n",
    "bigram_frequency = Counter([encrypted_text[i:i+2] for i in range(0, len(encrypted_text), 2)])\n",
    "\n",
    "# Знаходження найчастіших біграм\n",
    "most_common_bigrams_encrypted = []\n",
    "for i in range(5):\n",
    "    most_common_bigrams_encrypted.append(bigram_frequency.most_common(5)[i][0])  # все одно це все відбувалося в першій лабі яка вже здана )))\n",
    "print(\"Найчастіші біграми у моєму зашифрованому тексті:\", most_common_bigrams_encrypted)\n",
    "\n",
    "most_common_bigrams_open = ['ст','но', 'то','на','ен'] # з умови\n",
    "print(\"Найчастіші біграми у звичайному, відкритому тексті:\", most_common_bigrams_open)"
   ]
  },
  {
   "attachments": {},
   "cell_type": "markdown",
   "metadata": {},
   "source": [
    "### Напишемо код для знаходження ключів шляхом комбінації найбільш ймовірних біграм та розв'язання системи рівнянь для неї:"
   ]
  },
  {
   "cell_type": "code",
   "execution_count": 111,
   "metadata": {},
   "outputs": [],
   "source": [
    "def bigram_match(bigram):\n",
    "    return alphabet.index(bigram[0]) * m + alphabet.index(bigram[1])\n",
    "\n",
    "def get_keys(best_encrypted):\n",
    "    keys = []\n",
    "    for i_1 in range(5):\n",
    "        for j_1 in range(5):\n",
    "            for i_2 in range(5):\n",
    "                for j_2 in range(5):\n",
    "                    if i_1 == i_2 and j_1 == j_2:\n",
    "                        continue\n",
    "                    \n",
    "                    X_1 = bigram_match(most_common_bigrams_open[i_1])\n",
    "                    Y_1 = bigram_match(best_encrypted[j_1])\n",
    "                    X_2 = bigram_match(most_common_bigrams_open[i_2])\n",
    "                    Y_2 = bigram_match(best_encrypted[j_2])\n",
    "\n",
    "                    A = solve_linear_congruence(X_1 - X_2, Y_1 - Y_2, m**2)\n",
    "                    keys += [(a, (Y_1 - a * X_1) % m**2) for a in A]\n",
    "    return keys\n",
    "\n",
    "def bigram_unmatch(X_i):\n",
    "    x_2i_1 = X_i // m       # x_{2i-1}\n",
    "    x_2i = X_i - x_2i_1*m     # x_{2i}\n",
    "    return x_2i_1, x_2i\n",
    "    \n",
    "def bigram_decrypt(key, Y_i):\n",
    "    (a, b) = key\n",
    "    X_i = (multiplicative_inverse(a, m**2) * (bigram_match(Y_i) - b)) % m**2\n",
    "    return bigram_unmatch(X_i)\n"
   ]
  },
  {
   "attachments": {},
   "cell_type": "markdown",
   "metadata": {},
   "source": [
    "### Тепер напишемо функцію яка буде розшифровувати текст для заданого ключа:"
   ]
  },
  {
   "cell_type": "code",
   "execution_count": 112,
   "metadata": {},
   "outputs": [],
   "source": [
    "\n",
    "def try_decrypt_text(text, key):\n",
    "    (a, _) = key\n",
    "    (d, _, _) = extended_euclidean_algorithm(a, m**2)\n",
    "    if d != 1:\n",
    "        return \"Invalid!\"\n",
    "    \n",
    "    res = \"\"\n",
    "    for i in range(1, len(text), 2):\n",
    "        encr = text[i - 1] + text[i]\n",
    "        x1, x2 = bigram_decrypt(key, encr)\n",
    "        res += alphabet[x1] + alphabet[x2]\n",
    "    return res\n"
   ]
  },
  {
   "attachments": {},
   "cell_type": "markdown",
   "metadata": {},
   "source": [
    "### Оскільки ми не впевнені що розшифрований текст буде правильний (впевнені що буде багато неправильних, адже це такий розумний брутфорс, але все ще брутфорс), напишемо функцію для перевірки чи наш текст має сенс за критерієм заборонених l-грам."
   ]
  },
  {
   "cell_type": "code",
   "execution_count": 113,
   "metadata": {},
   "outputs": [],
   "source": [
    "\n",
    "def check_if_contains_bigrams(text, bigrams):\n",
    "    for bigram in bigrams:\n",
    "        if bigram in text:\n",
    "            return True\n",
    "    return False\n",
    "\n",
    "def check_if_text_makes_sense(text):\n",
    "    if check_if_contains_bigrams(text, [\"аь\", \"еь\", \"оь\", \"уь\", \"иь\", \"ыь\", \"йь\", \"шщ\"]): # forbidden bigrams\n",
    "        return True"
   ]
  },
  {
   "attachments": {},
   "cell_type": "markdown",
   "metadata": {},
   "source": [
    "### Зберемо все що ми написали в одну функцію!"
   ]
  },
  {
   "cell_type": "code",
   "execution_count": 114,
   "metadata": {},
   "outputs": [
    {
     "name": "stdout",
     "output_type": "stream",
     "text": [
      "('многограннуюличностьдостоевскогоможнорассматриватьсчетырехсторонкакписателякакневротикакакмыслителяэтикаикакгрешникакакжеразобратьсявэтойневольносмущающейнассложностинаименееспоренонкакписательместоеговодномрядусшекспиромбратьякарамазовывеличайшийроманизвсехкогдалибонаписанныхалегендаовеликоминквизитореодноизвысочайшихдостижениймировойлитературыпереоценитькотороеневозможноксожалениюпередпроблемойписательскоготворчествапсихоанализдолженсложитьоружиедостоевскийскореевсегоуязвимкакморалистпредставляяегочеловекомвысоконравственнымнатомоснованиичтотолькототдостигаетвысшегонравственногосовершенствактопрошелчерезглубочайшиебездныгреховностимыигнорируемодносоображениеведьнравственнымявляетсячеловекреагирующийуженавнутреннеиспытываемоеискушениеприэтомемунеподдаваяськтожепопеременнотогрешиттораскаиваясьставитсебевысокиенравственныецелитоголегкоупрекнутьвтомчтоонслишкомудобнодлясебястроитсвоюжизньоннеисполняетосновногопринципанравственностинеобходимостиотречениявтовремякакнравственныйобразжизнивпрактическихинтересахвсегочеловечестваэтимоннапоминаетварваровэпохипереселениянародовварваровубивавшихизатемкаявшихсявэтомтакчтопокаяниестановилосьтехническимпримеромрасчищавшимпутькновымубийствамтакжепоступаливангрозныйэтасделкассовестьюхарактернаярусскаячертадостаточнобесславениконечныйитогнравственнойборьбыдостоевскогопослеисступленнойборьбывоимяпримиренияпритязанийпервичныхпозывовиндивидастребованиямичеловеческогообществаонвынужденнорегрессируеткподчинениюмирскомуидуховномуавторитетукпоклонениюцарюихристианскомубогукрусскомумелкодушномунационализмукчемуменеезначительныеумыпришлисгораздоменьшимиусилиямичемонвэтомслабоеместобольшойличностидостоевскийупустилвозможностьстатьучителемиосвободителемчеловечестваиприсоединилсяктюремщикамкультурабудущегонемногимбудетемуобязанавэтомповсейвероятностипроявилсяегоневрозиззакоторогоонибылосужденнатакуюнеудачупомощипостиженияисилелюбвиклюдямемубылоткрытдругойапостольскийпутьслужениянампредставляетсяотталкивающимрассматриваниедостоевскоговкачествегрешникаилипреступниканоэтоотталкиваниенедолжноосновыватьсянаобывательскойоценкепреступникавыявитьподлиннуюмотивациюпреступлениянедолгодляпреступникасущественныдвечертыбезграничноесебялюбиеисильнаядеструктивнаясклонностьобщимдляобеихчертипредпосылкойдляихпроявленийявляетсябезлюбовностьнехваткаэмоциональнооценочногоотношениякчеловекутутсразувспоминаешьпротивоположноеэтомуудостоевскогоегобольшуюпотребностьвлюбвииегоогромнуюспособностьлюбитьпроявившуюсявегосверхдобротеипозволявшуюемулюбитьипомогатьтамгдеонимелбыправоненавидетьимститьнапримерпоотношениюкегопервойженеиеелюбовникунотогдавозникаетвопросоткудаприходитсоблазнпричислениядостоевскогокпреступникамответиззавыбораегосюжетовэтопреимущественнонасильникиубийцыэгоцентрическиехарактерычтосвидетельствуетосуществованиитакихсклонностейвеговнутреннеммиреатакжеиззанекоторыхфактовегожизнистрастиегоказартнымиграмможетбытьсексуальногорастлениянезрелойдевочкиисповедьэтопротиворечиеразрешаетсяследующимобразомсильнаядеструктивнаяустремленностьдостоевскогокотораямоглабысделатьегопреступникомбылавегожизнинаправленаглавнымобразомнасамогосебявовнутрьвместотогочтобыизнутриитакимобразомвыразиласьвмазохизмеичувствевинывсетакивеголичностинемалоисадистическихчертвыявляющихсявегораздражительностимучительственетерпимостидажепоотношениюклюбимымлюдяматакжевегоманереобращениясчитателемитаквмелочахонсадиствовневважномсадистпоотношениюксамомусебеследовательномазохистиэтомягчайшийдобродушнейшийвсегдаготовыйпомочьчеловеквсложнойличностидостоевскогомывыделилитрифактораодинколичественныйидвакачественныхегочрезвычайноповышеннуюаффективностьегоустремленностькперверзиикотораядолжнабылапривестиегоксадомазохизмуилисделатьпреступникомиегонеподдающеесяанализутворческоедарованиетакоесочетаниевполнемоглобысуществоватьибезневрозаведьбываютжестопроцентныемазохистыбезналичияневрозовпосоотношениюсилпритязаниипервичныхпозывовипротивоборствующихимторможенийприсоединяясюдавозможностисублимированиядостоевскоговсеещеможнобылобыотнестикразрядуимпульсивныххарактеровноположениевещейзатемняетсяналичиемневрозанеобязательногокакбылосказаноприданныхобстоятельствахновсежевозникающеготемскореечемнасыщеннееосложнениеподлежащеесосторонычеловеческогояпреодолениюневрозэтотолькознактогочтоятакойсинтезнеудалсячтооноприэтойпопыткепоплатилосьсвоимединствомвчемжевстрогомсмыслепроявляетсяневроздостоевскийназывалсебясамидругиетакжесчиталиегоэпилептикомнатомоснованиичтоонбылподвержентяжелымприпадкамсопровождавшимисяпотерейсознаниясудорогамиипоследующимупадочнымнастроениемвесьмавероятночтоэтатакназываемаяэпилепсиябылалишьсимптомомегоневрозакоторыйвтакомслучаеследуетопределитькакистероэпилепсиютоестькактяжелуюистериюутверждатьэтосполнойуверенностьюнельзяподвумпричинамвопервыхпотомучтодатыанамнезическихприпадковтакназываемойэпилепсиидостоевскогонедостаточныиненадежныавовторыхпотомучтопониманиесвязанныхсэпилептоиднымиприпадкамиболезненныхсостоянийостаетсянеясныма', (13, 151))\n"
     ]
    }
   ],
   "source": [
    "def affine_decrypt(text, bigrams):\n",
    "    my_keys = get_keys(bigrams)\n",
    "    for key in my_keys:\n",
    "        open_text = try_decrypt_text(text, key)\n",
    "        if open_text == \"Invalid!\":\n",
    "            continue\n",
    "        if check_if_text_makes_sense(open_text):\n",
    "            continue\n",
    "        return open_text, key\n",
    "    \n",
    "print(affine_decrypt(encrypted_text, most_common_bigrams_encrypted))\n",
    "    "
   ]
  },
  {
   "attachments": {},
   "cell_type": "markdown",
   "metadata": {},
   "source": [
    "# Успіх!\n",
    "\n",
    "### Ключ у нас (13, 151)"
   ]
  }
 ],
 "metadata": {
  "kernelspec": {
   "display_name": "Python 3",
   "language": "python",
   "name": "python3"
  },
  "language_info": {
   "codemirror_mode": {
    "name": "ipython",
    "version": 3
   },
   "file_extension": ".py",
   "mimetype": "text/x-python",
   "name": "python",
   "nbconvert_exporter": "python",
   "pygments_lexer": "ipython3",
   "version": "3.10.6"
  },
  "orig_nbformat": 4
 },
 "nbformat": 4,
 "nbformat_minor": 2
}
